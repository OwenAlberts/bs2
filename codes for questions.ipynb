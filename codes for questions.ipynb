{
 "cells": [
  {
   "cell_type": "code",
   "execution_count": 11,
   "metadata": {},
   "outputs": [
    {
     "data": {
      "text/plain": [
       "''"
      ]
     },
     "execution_count": 11,
     "metadata": {},
     "output_type": "execute_result"
    }
   ],
   "source": [
    "\"When does your organization check the suitability (e.g. correctness) of the data for the purpose of the system?\"\n",
    "\n",
    "1 : 1\n",
    "2 : 0.75\n",
    "3 : 0.5\n",
    "4 : 0.25\n",
    "5 : 0\n"
   ]
  },
  {
   "cell_type": "code",
   "execution_count": null,
   "metadata": {},
   "outputs": [],
   "source": [
    "\"How often does your organization recollect the data when it is not suited for the purpose of the system?\"\n",
    "\n",
    "1 : 0\n",
    "2 : 0.33\n",
    "3 : 0.66\n",
    "4 : 1"
   ]
  },
  {
   "cell_type": "code",
   "execution_count": null,
   "metadata": {},
   "outputs": [],
   "source": [
    "\"My organization always ensures that data used for the purpose of the system is highly suitable.\"\n",
    "\n",
    "1 : 0\n",
    "2 : 0.25\n",
    "3 : 0.5\n",
    "4 : 0.75\n",
    "5 : 1"
   ]
  },
  {
   "cell_type": "code",
   "execution_count": null,
   "metadata": {},
   "outputs": [],
   "source": [
    "\"How often does your organization adjust data (e.g. append or delete features) when it is not representative of the purpose of the system?\"\n",
    "\n",
    "1 : 0\n",
    "2 : 0.33\n",
    "3 : 0.66\n",
    "4 : 1"
   ]
  },
  {
   "cell_type": "code",
   "execution_count": null,
   "metadata": {},
   "outputs": [],
   "source": [
    "\"How often does your organization adjust data when it is found to contain errors?\"\n",
    "\n",
    "1 : 1\n",
    "2 : 0.66\n",
    "3 : 0.33\n",
    "4 : 0"
   ]
  },
  {
   "cell_type": "code",
   "execution_count": null,
   "metadata": {},
   "outputs": [],
   "source": [
    "\"My organization always ensures that data used for the purpose of the system is representative and free of errors.\"\n",
    "\n",
    "1 : 0\n",
    "2 : 0.25\n",
    "3 : 0.5\n",
    "4 : 0.75\n",
    "5 : 1"
   ]
  },
  {
   "cell_type": "code",
   "execution_count": null,
   "metadata": {},
   "outputs": [],
   "source": [
    "\"Has your organization noticed risks associated with using a dataset in the past 2 years? - Selected Choice\"\n",
    "\n",
    "1 : 0.25\n",
    "2 : 1\n",
    "3 : 0\n",
    "\n",
    "\n",
    "# different scoring \n",
    "# ask diptish"
   ]
  },
  {
   "cell_type": "code",
   "execution_count": null,
   "metadata": {},
   "outputs": [],
   "source": [
    "\"How often does your organization mitigate risks in a dataset?\"\n",
    "\n",
    "1 : 1\n",
    "2 : 0.66\n",
    "3 : 0.33\n",
    "4 : 0"
   ]
  },
  {
   "cell_type": "code",
   "execution_count": null,
   "metadata": {},
   "outputs": [],
   "source": [
    "\"At which moment in the data gathering phase are actions taken to mitigate risks concerning the dataset?\"\n",
    "\n",
    "1 : 0.5\n",
    "2 : 0.5\n",
    "3 : 0.25\n",
    "4 : 0\n",
    "5 : 1"
   ]
  },
  {
   "cell_type": "code",
   "execution_count": null,
   "metadata": {},
   "outputs": [],
   "source": [
    "\"My organization identifies and mitigates risks associated with a dataset.\"\n",
    "\n",
    "1 : 0\n",
    "2 : 0.25\n",
    "3 : 0.5\n",
    "4 : 0.75\n",
    "5 : 1"
   ]
  },
  {
   "cell_type": "code",
   "execution_count": null,
   "metadata": {},
   "outputs": [],
   "source": [
    "\"Which stakeholders do you involve in the process of risk mitigation? - Selected Choice\"\n",
    "\n",
    "1 : 1\n",
    "2 : 1\n",
    "3 : 1\n",
    "4 : 1\n",
    "5 : 1\n",
    "\n",
    "# ask diptish"
   ]
  },
  {
   "cell_type": "code",
   "execution_count": null,
   "metadata": {},
   "outputs": [],
   "source": [
    "\"My organization involves stakeholders in the process of risk mitigation.\"\n",
    "\n",
    "1 : 0\n",
    "2 : 0.25\n",
    "3 : 0.5\n",
    "4 : 0.75\n",
    "5 : 1"
   ]
  },
  {
   "cell_type": "code",
   "execution_count": null,
   "metadata": {},
   "outputs": [],
   "source": [
    "\"Does your organization train its employees on data and model bias?\"\n",
    "\n",
    "1 : 1\n",
    "2 : 0.5\n",
    "3 : 0.5\n",
    "4 : 0"
   ]
  },
  {
   "cell_type": "code",
   "execution_count": null,
   "metadata": {},
   "outputs": [],
   "source": [
    "\"Which departments are trained on data and model bias? - Selected Choice\"\n",
    "\n",
    "1 : 1\n",
    "2 : 1\n",
    "3 : 1\n",
    "4 : 1\n",
    "5 : 1\n",
    "6 : 1\n",
    "\n",
    "# ask ditptish"
   ]
  },
  {
   "cell_type": "code",
   "execution_count": null,
   "metadata": {},
   "outputs": [],
   "source": [
    "\"Professionals in my organization are aware that data can be biased.\"\n",
    "\n",
    "1 : 0\n",
    "2 : 0.25\n",
    "3 : 0.5\n",
    "4 : 0.75\n",
    "5 : 1"
   ]
  },
  {
   "cell_type": "code",
   "execution_count": null,
   "metadata": {},
   "outputs": [],
   "source": [
    "\"Professionals in my organization are aware that bias can occur within the model.\"\n",
    "\n",
    "1 : 0\n",
    "2 : 0.25\n",
    "3 : 0.5\n",
    "4 : 0.75\n",
    "5 : 1"
   ]
  },
  {
   "cell_type": "code",
   "execution_count": null,
   "metadata": {},
   "outputs": [],
   "source": [
    "\"Are these professionals, working on a project, aware of its customer demographics?\"\n",
    "\n",
    "1 : 0.75\n",
    "2 : 0.5\n",
    "3 : 0.25"
   ]
  },
  {
   "cell_type": "code",
   "execution_count": null,
   "metadata": {},
   "outputs": [],
   "source": [
    "\"How often do you test model performance per demographic?\"\n",
    "\n",
    "1 : 1\n",
    "2 : 0.66\n",
    "3 : 0.33\n",
    "4 : 0"
   ]
  },
  {
   "cell_type": "code",
   "execution_count": null,
   "metadata": {},
   "outputs": [],
   "source": [
    "\"How often are performance test results on demographics communicated with stakeholders?\"\n",
    "\n",
    "1 : 1\n",
    "2 : 0.66\n",
    "3 : 0.33\n",
    "4 : 0"
   ]
  },
  {
   "cell_type": "code",
   "execution_count": null,
   "metadata": {},
   "outputs": [],
   "source": [
    "\"With which stakeholders are test results communicated? - Selected Choice\"\n",
    "\n",
    "1 : 1\n",
    "2 : 1\n",
    "3 : 1\n",
    "4 : 1\n",
    "5 : 1\n",
    "6 : 1\n",
    "\n",
    "# ask ditptish"
   ]
  },
  {
   "cell_type": "code",
   "execution_count": null,
   "metadata": {},
   "outputs": [],
   "source": [
    "\"Model performance on different demographics is tested and communicated all across the system development value chain.\"\n",
    "\n",
    "1 : 0\n",
    "2 : 0.25\n",
    "3 : 0.5\n",
    "4 : 0.75\n",
    "5 : 1"
   ]
  },
  {
   "cell_type": "code",
   "execution_count": null,
   "metadata": {},
   "outputs": [],
   "source": [
    "\"How often does it occur that a dataset misses data?\"\n",
    "\n",
    "1 : 0\n",
    "2 : 0.33\n",
    "3 : 0.66\n",
    "4 : 1"
   ]
  },
  {
   "cell_type": "code",
   "execution_count": null,
   "metadata": {},
   "outputs": [],
   "source": [
    "\"How often does a data gap lead to an action, in which the existing dataset is adjusted or new data is gathered to fix the data gap?\"\n",
    "\n",
    "1 : 1\n",
    "2 : 0.66\n",
    "3 : 0.33\n",
    "4 : 0"
   ]
  },
  {
   "cell_type": "code",
   "execution_count": null,
   "metadata": {},
   "outputs": [],
   "source": [
    "\"We are expected to follow a protocol if it comes out that the dataset misses data.\"\n",
    "\n",
    "1 : 0\n",
    "2 : 0.25\n",
    "3 : 0.5\n",
    "4 : 0.75\n",
    "5 : 1"
   ]
  },
  {
   "cell_type": "code",
   "execution_count": null,
   "metadata": {},
   "outputs": [],
   "source": [
    "\"With which stakeholders are data gaps communicated? - Selected Choice\"\n",
    "\n",
    "1 : 1\n",
    "2 : 1\n",
    "3 : 1\n",
    "4 : 1\n",
    "5 : 1\n",
    "\n",
    "# ask ditptish"
   ]
  },
  {
   "cell_type": "code",
   "execution_count": null,
   "metadata": {},
   "outputs": [],
   "source": [
    "\"Within my organization data gaps are communicated to different stakeholders.\"\n",
    "\n",
    "1 : 0\n",
    "2 : 0.25\n",
    "3 : 0.5\n",
    "4 : 0.75\n",
    "5 : 1"
   ]
  },
  {
   "cell_type": "code",
   "execution_count": null,
   "metadata": {},
   "outputs": [],
   "source": [
    "\"How often does your organization reflect upon the acceptable level of model accuracy?\"\n",
    "\n",
    "1 : 1\n",
    "2 : 0.66\n",
    "3 : 0.33\n",
    "4 : 0"
   ]
  },
  {
   "cell_type": "code",
   "execution_count": null,
   "metadata": {},
   "outputs": [],
   "source": [
    "\"My organization has internally accepted levels of what a good accuracy is.\"\n",
    "\n",
    "1 : 0\n",
    "2 : 0.25\n",
    "3 : 0.5\n",
    "4 : 0.75\n",
    "5 : 1"
   ]
  },
  {
   "cell_type": "markdown",
   "metadata": {},
   "source": [
    "##TECHNICAL DOCUMENTATION##\n"
   ]
  },
  {
   "cell_type": "code",
   "execution_count": null,
   "metadata": {},
   "outputs": [],
   "source": []
  },
  {
   "cell_type": "code",
   "execution_count": null,
   "metadata": {},
   "outputs": [],
   "source": [
    "\"\""
   ]
  },
  {
   "cell_type": "code",
   "execution_count": null,
   "metadata": {},
   "outputs": [],
   "source": []
  },
  {
   "cell_type": "code",
   "execution_count": null,
   "metadata": {},
   "outputs": [],
   "source": []
  }
 ],
 "metadata": {
  "kernelspec": {
   "display_name": "base",
   "language": "python",
   "name": "python3"
  },
  "language_info": {
   "codemirror_mode": {
    "name": "ipython",
    "version": 3
   },
   "file_extension": ".py",
   "mimetype": "text/x-python",
   "name": "python",
   "nbconvert_exporter": "python",
   "pygments_lexer": "ipython3",
   "version": "3.10.9"
  }
 },
 "nbformat": 4,
 "nbformat_minor": 2
}
