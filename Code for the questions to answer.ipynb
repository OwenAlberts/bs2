{
 "cells": [
  {
   "cell_type": "code",
   "execution_count": 13,
   "metadata": {},
   "outputs": [
    {
     "name": "stdout",
     "output_type": "stream",
     "text": [
      "10/19/23, 8:46 AM Qualtrics Survey Software\n",
      "https://hva.eu.qualtrics.com/Q/EditSection/Blocks/Ajax/GetSurveyPrintPreview?ContextSurveyID=SV_b2aXhDuGkX3NnUy&ContextLibraryID=UR_diYZSL6oDNxBHgO 1/26\n",
      "Intro\n",
      "The European Commission has in 2021 proposed the AI Act, a\n",
      "regulatory framework that aims to ensure that AI systems are\n",
      "transparent, accountable, and non-discriminatory. The proposed\n",
      "act will have a signiﬁcant impact on organizations that use AI in\n",
      "their operations, as they will need to adjust their practices to\n",
      "comply with the new legislation. To help organizations assess\n",
      "their compliance on technical elements related to AI, we have\n",
      "formulated a questionnaire that focuses on two key areas: model\n",
      "internals & documentation and model risk. By completing this\n",
      "questionnaire, organizations will gain insights into how well they\n",
      "are coordinating technical elements related to AI models and\n",
      "identify areas for improvement. This will eventually assist them in\n",
      "becoming more compliant with upcoming \n"
     ]
    }
   ],
   "source": [
    "from PyPDF2 import PdfReader\n",
    "\n",
    "def extract_text_from_pdf(pdf_path):\n",
    "    with open(pdf_path, \"rb\") as file:\n",
    "        reader = PdfReader(file)\n",
    "        text = \"\"\n",
    "        for page in reader.pages:\n",
    "            text += page.extract_text()\n",
    "    return text\n",
    "\n",
    "pdf_text = extract_text_from_pdf(\"C:/Users/owenalberts/Downloads/Survey printout.pdf\")\n",
    "print(pdf_text[:1000])  # Displaying the first 1000 characters for a quick look\n",
    "\n"
   ]
  },
  {
   "cell_type": "code",
   "execution_count": 16,
   "metadata": {},
   "outputs": [
    {
     "name": "stdout",
     "output_type": "stream",
     "text": [
      "   Unnamed: 0 What is the name of your organization?  \\\n",
      "0           0                              Company 1   \n",
      "1           1                              Company 2   \n",
      "2           2                              Company 3   \n",
      "3           3                              Company 4   \n",
      "4           4                              Company 5   \n",
      "\n",
      "   When does your organization check the suitability (e.g. correctness) of the data for the purpose of the system?  \\\n",
      "0                                                2.0                                                                 \n",
      "1                                                2.0                                                                 \n",
      "2                                                2.0                                                                 \n",
      "3                                                2.0                                                                 \n",
      "4                                                2.0                                                                 \n",
      "\n",
      "   How often does your organization recollect the data when it is not suited for the purpose of the system?  \\\n",
      "0                                                4.0                                                          \n",
      "1                                                2.0                                                          \n",
      "2                                                4.0                                                          \n",
      "3                                                2.0                                                          \n",
      "4                                                2.0                                                          \n",
      "\n",
      "   My organization always ensures that data used for the purpose of the system is highly suitable.  \\\n",
      "0                                                5.0                                                 \n",
      "1                                                4.0                                                 \n",
      "2                                                5.0                                                 \n",
      "3                                                5.0                                                 \n",
      "4                                                5.0                                                 \n",
      "\n",
      "   How often does your organization adjust data (e.g. append or delete features) when it is not representative of the purpose of the system?  \\\n",
      "0                                                2.0                                                                                           \n",
      "1                                                1.0                                                                                           \n",
      "2                                                4.0                                                                                           \n",
      "3                                                2.0                                                                                           \n",
      "4                                                2.0                                                                                           \n",
      "\n",
      "   How often does your organization adjust data when it is found to contain errors?  \\\n",
      "0                                                1.0                                  \n",
      "1                                                1.0                                  \n",
      "2                                                4.0                                  \n",
      "3                                                2.0                                  \n",
      "4                                                2.0                                  \n",
      "\n",
      "   My organization always ensures that data used for the purpose of the system is representative and free of errors.  \\\n",
      "0                                                5.0                                                                   \n",
      "1                                                4.0                                                                   \n",
      "2                                                4.0                                                                   \n",
      "3                                                4.0                                                                   \n",
      "4                                                5.0                                                                   \n",
      "\n",
      "  Has your organization noticed risks associated with using a dataset in the past 2 years? - Yes, please provide an example where you describe the situation in one sentence. - Text  \\\n",
      "0  We mostly use encrypted data but in a certain ...                                                                                                                                   \n",
      "1             bad encryption of customer information                                                                                                                                   \n",
      "2                                                NaN                                                                                                                                   \n",
      "3      We operate with a lot of partial information.                                                                                                                                   \n",
      "4  availability of data due to admenments in agre...                                                                                                                                   \n",
      "\n",
      "   How often does your organization mitigate risks in a dataset?  ...  \\\n",
      "0                                                1.0              ...   \n",
      "1                                                3.0              ...   \n",
      "2                                                4.0              ...   \n",
      "3                                                1.0              ...   \n",
      "4                                                1.0              ...   \n",
      "\n",
      "   My organization has established a risk management system.  \\\n",
      "0                                                1.0           \n",
      "1                                                2.0           \n",
      "2                                                3.0           \n",
      "3                                                3.0           \n",
      "4                                                3.0           \n",
      "\n",
      "   How often is the risk management system assessed?  \\\n",
      "0                                                1.0   \n",
      "1                                                4.0   \n",
      "2                                                3.0   \n",
      "3                                                3.0   \n",
      "4                                                2.0   \n",
      "\n",
      "  My organization asseses risk management at regular intervals.  \\\n",
      "0                                                5.0              \n",
      "1                                                1.0              \n",
      "2                                                3.0              \n",
      "3                                                3.0              \n",
      "4                                                4.0              \n",
      "\n",
      "   How often does your organization take a corrective action after a risk has been flagged?  \\\n",
      "0                                                1.0                                          \n",
      "1                                                1.0                                          \n",
      "2                                                1.0                                          \n",
      "3                                                1.0                                          \n",
      "4                                                1.0                                          \n",
      "\n",
      "   How often do you test that a corrective action has mitigated the risk?  \\\n",
      "0                                                1.0                        \n",
      "1                                                1.0                        \n",
      "2                                                1.0                        \n",
      "3                                                1.0                        \n",
      "4                                                1.0                        \n",
      "\n",
      "  How often are flagged risks actually mitigated?  \\\n",
      "0                                             1.0   \n",
      "1                                             1.0   \n",
      "2                                             1.0   \n",
      "3                                             2.0   \n",
      "4                                             2.0   \n",
      "\n",
      "   My organization coordinates risk mitigation across the entire value chain of system development.  \\\n",
      "0                                                4.0                                                  \n",
      "1                                                3.0                                                  \n",
      "2                                                2.0                                                  \n",
      "3                                                4.0                                                  \n",
      "4                                                5.0                                                  \n",
      "\n",
      "   How often are risks of the system communicated across stakeholders?  \\\n",
      "0                                                1.0                     \n",
      "1                                                2.0                     \n",
      "2                                                2.0                     \n",
      "3                                                2.0                     \n",
      "4                                                1.0                     \n",
      "\n",
      "   With which stakeholders are risks of the system communicated? - Others - Text  \\\n",
      "0                                                NaN                               \n",
      "1                                         management                               \n",
      "2                                                NaN                               \n",
      "3                    Everyone for which is relevant.                               \n",
      "4                                 management & board                               \n",
      "\n",
      "   My organization communicates risks of the system across all key stakeholders.  \n",
      "0                                                4.0                              \n",
      "1                                                4.0                              \n",
      "2                                                5.0                              \n",
      "3                                                5.0                              \n",
      "4                                                5.0                              \n",
      "\n",
      "[5 rows x 74 columns]\n"
     ]
    }
   ],
   "source": [
    "import pandas as pd\n",
    "\n",
    "df_excel = pd.read_csv(\"C:/Users/owenalberts/Downloads/Ai_data_cleaned.csv\")\n",
    "print(df_excel.head())\n",
    "\n",
    "\n"
   ]
  },
  {
   "cell_type": "code",
   "execution_count": 17,
   "metadata": {},
   "outputs": [
    {
     "ename": "SyntaxError",
     "evalue": "unterminated string literal (detected at line 30) (2381954908.py, line 30)",
     "output_type": "error",
     "traceback": [
      "\u001b[1;36m  Cell \u001b[1;32mIn[17], line 30\u001b[1;36m\u001b[0m\n\u001b[1;33m    file.write(f'\"\"\"{question}\"\"\"\u001b[0m\n\u001b[1;37m               ^\u001b[0m\n\u001b[1;31mSyntaxError\u001b[0m\u001b[1;31m:\u001b[0m unterminated string literal (detected at line 30)\n"
     ]
    }
   ],
   "source": [
    "import pandas as pd\n",
    "\n",
    "# 1. Loading Data\n",
    "\n",
    "csv_path = \"/path/to/your/csv/file.csv\"\n",
    "excel_path = \"/path/to/your/excel/file.xlsx\"\n",
    "\n",
    "csv_data = pd.read_csv(csv_path)\n",
    "excel_data = pd.read_excel(excel_path)\n",
    "\n",
    "# 2. Scoring Mechanism\n",
    "\n",
    "def generate_score_map(column):\n",
    "    unique_responses = sorted(column.dropna().unique())\n",
    "    total_responses = len(unique_responses)\n",
    "    scores = [1 - i / (total_responses - 1) if total_responses > 1 else 1 for i in range(total_responses)]\n",
    "    return dict(zip(unique_responses, scores))\n",
    "\n",
    "# 3. Generate Scoresheet\n",
    "\n",
    "score_maps = {}\n",
    "for column in csv_data.columns[1:]:\n",
    "    score_maps[column] = generate_score_map(csv_data[column])\n",
    "\n",
    "# 4. Output\n",
    "\n",
    "output_path = \"/path/to/save/your/output.txt\"\n",
    "with open(output_path, \"w\") as file:\n",
    "    for question, score_map in score_maps.items():\n",
    "        file.write(f'\"\"\"{question}\"\"\"\n",
    "\n",
    "score_map = {score_map}\n",
    "\n",
    "# ========================================\n",
    "\n",
    "')\n"
   ]
  },
  {
   "cell_type": "code",
   "execution_count": 10,
   "metadata": {},
   "outputs": [],
   "source": [
    "questions = df_excel.columns[1:]  # Assuming the first column isn't a question\n",
    "\n",
    "# Assigning uniform weights as an example\n",
    "weights = {question: 1/len(questions) for question in questions}\n"
   ]
  },
  {
   "cell_type": "code",
   "execution_count": 12,
   "metadata": {},
   "outputs": [
    {
     "name": "stdout",
     "output_type": "stream",
     "text": [
      "{'Strongly disagree': 1, 'Somewhat disagree': 2, 'Neither agree nor disagree': 3, 'Somewhat agree': 4, 'Strongly agree': 5}\n"
     ]
    }
   ],
   "source": [
    "answer_mapping = {\n",
    "    \"Strongly disagree\": 1,\n",
    "    \"Somewhat disagree\": 2,\n",
    "    \"Neither agree nor disagree\": 3,\n",
    "    \"Somewhat agree\": 4,\n",
    "    \"Strongly agree\": 5\n",
    "}\n",
    "\n",
    "print(answer_mapping)\n",
    "\n"
   ]
  },
  {
   "cell_type": "markdown",
   "metadata": {},
   "source": [
    "Risk Mangament "
   ]
  },
  {
   "cell_type": "code",
   "execution_count": null,
   "metadata": {},
   "outputs": [],
   "source": [
    "\n",
    "\"My organization communicates risks of the system across all key stakeholders.\"\n",
    "1 : 0\n",
    "2 : 0.25\n",
    "3 : 0.5\n",
    "4 : 0.75\n",
    "5 : 1"
   ]
  },
  {
   "cell_type": "code",
   "execution_count": null,
   "metadata": {},
   "outputs": [],
   "source": [
    "\"How often are risks of the system communicated across stakeholders?\"\n",
    "1 : 1\n",
    "2 : 0.66\n",
    "3 : 0.33\n",
    "4 : 0"
   ]
  },
  {
   "cell_type": "code",
   "execution_count": null,
   "metadata": {},
   "outputs": [],
   "source": [
    "\"Which stakeholders do you involve in the process of risk mitigation? - Other... - Text\"\n",
    "NaN : 0\n",
    "\"\"  : 1"
   ]
  },
  {
   "cell_type": "code",
   "execution_count": null,
   "metadata": {},
   "outputs": [],
   "source": [
    "\"My organization coordinates risk mitigation across the entire value chain of system development.\"\n",
    "1 : 0\n",
    "2 : 0.25\n",
    "3 : 0.5\n",
    "4 : 0.75\n",
    "5 : 1"
   ]
  },
  {
   "cell_type": "code",
   "execution_count": null,
   "metadata": {},
   "outputs": [],
   "source": [
    "\"How often are flagged risks actually mitigated?\"\n",
    "1 : 1\n",
    "2 : 0.75\n",
    "3 : 0.5\n",
    "4 : 0.25\n",
    "5 : 0"
   ]
  },
  {
   "cell_type": "code",
   "execution_count": null,
   "metadata": {},
   "outputs": [],
   "source": [
    "\"How often do you test that a corrective action has mitigated the risk?\"\n",
    "1 : 1\n",
    "2 : 0.66\n",
    "3 : 0.33\n",
    "4 : 0"
   ]
  },
  {
   "cell_type": "code",
   "execution_count": null,
   "metadata": {},
   "outputs": [],
   "source": [
    "\"How often does your organization take a corrective action after a risk has been flagged?\"\n",
    "1 : 1\n",
    "2 : 0.66\n",
    "3 : 0.33\n",
    "4 : 0"
   ]
  },
  {
   "cell_type": "code",
   "execution_count": null,
   "metadata": {},
   "outputs": [],
   "source": [
    "\"My organization asseses risk management at regular intervals.\"\n",
    "1 : 0\n",
    "2 : 0.25\n",
    "3 : 0.5\n",
    "4 : 0.75\n",
    "5 : 1"
   ]
  },
  {
   "cell_type": "code",
   "execution_count": null,
   "metadata": {},
   "outputs": [],
   "source": [
    "\"How often is the risk management system assessed?\"\n",
    "1 : 1\n",
    "2 : 0.66\n",
    "3 : 0.33\n",
    "4 : 0"
   ]
  },
  {
   "cell_type": "code",
   "execution_count": null,
   "metadata": {},
   "outputs": [],
   "source": [
    "\"My organization has established a risk management system.\"\n",
    "1 : 1\n",
    "2 : 0.5\n",
    "3 : 0\n"
   ]
  },
  {
   "cell_type": "code",
   "execution_count": null,
   "metadata": {},
   "outputs": [],
   "source": [
    "\"Which departments/professionals are involved in the risk management system?\"\n",
    "1 : 1\n",
    "2 : 1\n",
    "3 : 1\n",
    "4 : 1\n",
    "#Ask diptis"
   ]
  },
  {
   "cell_type": "code",
   "execution_count": null,
   "metadata": {},
   "outputs": [],
   "source": [
    "\"How many different employees are directly involved with managing risks related to the model/system?\"\n",
    "1 : 1\n",
    "2 : 0.5\n",
    "3 : 0\n"
   ]
  },
  {
   "cell_type": "markdown",
   "metadata": {},
   "source": [
    "Model monitoring "
   ]
  },
  {
   "cell_type": "code",
   "execution_count": null,
   "metadata": {},
   "outputs": [],
   "source": [
    "\"My organization has clear quality standards to which a system must adhere.\"\n",
    "1 : 0\n",
    "2 : 0.25\n",
    "3 : 0.5\n",
    "4 : 0.75\n",
    "5 : 1"
   ]
  },
  {
   "cell_type": "code",
   "execution_count": null,
   "metadata": {},
   "outputs": [],
   "source": [
    "\"Models that learn after deployment are monitored to ensure that the model still meets requirements. If not applicable, choose the option 'strongly agree'.\"\n",
    "1 : 0\n",
    "2 : 0.25\n",
    "3 : 0.5\n",
    "4 : 0.75\n",
    "5 : 1"
   ]
  },
  {
   "cell_type": "code",
   "execution_count": null,
   "metadata": {},
   "outputs": [],
   "source": [
    "\"What kind of actions do you take post monitoring, if the model does not meet requirements anymore? - Other... - Text\"\n",
    "1 : 1 \n",
    "2 : 1\n",
    "3 : 1\n",
    "4 : 1\n",
    "#Ask diptis"
   ]
  },
  {
   "cell_type": "code",
   "execution_count": null,
   "metadata": {},
   "outputs": [],
   "source": [
    "\"Post monitoring, how often do you check if model requirements are still met?\"\n",
    "1 : 1\n",
    "2 : 0.66\n",
    "3 : 0.33\n",
    "4 : 0"
   ]
  },
  {
   "cell_type": "code",
   "execution_count": null,
   "metadata": {},
   "outputs": [],
   "source": [
    "\"How often are actions taken post monitoring?\"\n",
    "1 : 1\n",
    "2 : 0.66\n",
    "3 : 0.33\n",
    "4 : 0"
   ]
  },
  {
   "cell_type": "code",
   "execution_count": null,
   "metadata": {},
   "outputs": [],
   "source": [
    "\"How often is model monitoring performed?\"\n",
    "1 : 1\n",
    "2 : 0.66\n",
    "3 : 0.33\n",
    "4 : 0"
   ]
  },
  {
   "cell_type": "code",
   "execution_count": null,
   "metadata": {},
   "outputs": [],
   "source": [
    "\"My organization has a dedicated employee, who is appropriately qualified, for monitoring the systems.\"\n",
    "1 : 0\n",
    "2 : 0.25\n",
    "3 : 0.5\n",
    "4 : 0.75\n",
    "5 : 1"
   ]
  },
  {
   "cell_type": "code",
   "execution_count": null,
   "metadata": {},
   "outputs": [],
   "source": [
    "\"Are model monitoring and model development the responsibility of the same department?\"\n",
    "1 : 1\n",
    "2 : 0 "
   ]
  },
  {
   "cell_type": "code",
   "execution_count": null,
   "metadata": {},
   "outputs": [],
   "source": [
    "\"What type of qualifications do people who monitor the systems have? - Other... - Text\"\n",
    "1 : 1\n",
    "2 : 1\n",
    "3 : 1\n",
    "4 : 1\n",
    "#Ask diptis"
   ]
  },
  {
   "cell_type": "code",
   "execution_count": null,
   "metadata": {},
   "outputs": [],
   "source": [
    "\"How many professionals in your organization are responsible for monitoring the AI/ML systems?\"\n",
    "1 : 1\n",
    "2 : 0.75\n",
    "3 : 0.5\n",
    "4 : 0.25\n",
    "5 : 0"
   ]
  },
  {
   "cell_type": "code",
   "execution_count": null,
   "metadata": {},
   "outputs": [],
   "source": [
    "\"My organization tests that the user of the system understands what the model is predicting.\"\n",
    "1 : 0\n",
    "2 : 0.25\n",
    "3 : 0.5\n",
    "4 : 0.75\n",
    "5 : 1"
   ]
  },
  {
   "cell_type": "code",
   "execution_count": null,
   "metadata": {},
   "outputs": [],
   "source": [
    "\"How often does your organization perform user (e.g. customers) tests?\"\n",
    "1 : 1\n",
    "2 : 0.66\n",
    "3 : 0.33\n",
    "4 : 0"
   ]
  },
  {
   "cell_type": "code",
   "execution_count": null,
   "metadata": {},
   "outputs": [],
   "source": [
    "\"How often does your organization test that the customer of the system understands what the model is predicting?\"\n",
    "1 : 1\n",
    "2 : 0.66\n",
    "3 : 0.33\n",
    "4 : 0"
   ]
  },
  {
   "cell_type": "code",
   "execution_count": null,
   "metadata": {},
   "outputs": [],
   "source": [
    "\"My organization has metrics to estimate a models risk on rights and discrimination.\"\n",
    "1 : 0\n",
    "2 : 0.25\n",
    "3 : 0.5\n",
    "4 : 0.75\n",
    "5 : 1"
   ]
  },
  {
   "cell_type": "code",
   "execution_count": null,
   "metadata": {},
   "outputs": [],
   "source": [
    "\"How often do you measure a models risk on rights and discrimination?\"\n",
    "1 : 1\n",
    "2 : 0.66\n",
    "3 : 0.33\n",
    "4 : 0"
   ]
  },
  {
   "cell_type": "code",
   "execution_count": null,
   "metadata": {},
   "outputs": [],
   "source": [
    "\"How does your organization estimate a models risk on rights and discrimination?\"\n",
    "1 : 1\n",
    "2 : 0.66\n",
    "3 : 0.33\n",
    "4 : 0"
   ]
  },
  {
   "cell_type": "code",
   "execution_count": null,
   "metadata": {},
   "outputs": [],
   "source": [
    "\"My organization communicates accepted risks of the system with the user of the system.\"\n",
    "1 : 0\n",
    "2 : 0.25\n",
    "3 : 0.5\n",
    "4 : 0.75\n",
    "5 : 1"
   ]
  },
  {
   "cell_type": "code",
   "execution_count": null,
   "metadata": {},
   "outputs": [],
   "source": [
    "\"How often does your organization communicate accepted risks of the system with stakeholders?\"\n",
    "1 : 1\n",
    "2 : 0.66\n",
    "3 : 0.33\n",
    "4 : 0"
   ]
  },
  {
   "cell_type": "code",
   "execution_count": null,
   "metadata": {},
   "outputs": [],
   "source": [
    "\"With whom does your organization communicate accepted risks of the system? - Other... - Text\"\n",
    "1 : 1\n",
    "2 : 1\n",
    "3 : 1\n",
    "4 : 1\n",
    "#Ask diptis"
   ]
  },
  {
   "cell_type": "markdown",
   "metadata": {},
   "source": [
    "User application"
   ]
  },
  {
   "cell_type": "code",
   "execution_count": null,
   "metadata": {},
   "outputs": [],
   "source": [
    "\"My organization adheres to clear policies when writing technical documentation.\"\n",
    "1 : 0\n",
    "2 : 0.25\n",
    "3 : 0.5\n",
    "4 : 0.75\n",
    "5 : 1"
   ]
  },
  {
   "cell_type": "code",
   "execution_count": null,
   "metadata": {},
   "outputs": [],
   "source": [
    "\"How often are guidelines for technical documentation revised?\"\n",
    "1 : 1\n",
    "2 : 0.8\n",
    "3 : 0.6\n",
    "4 : 0.4\n",
    "5 : 0.2\n",
    "6 : 0"
   ]
  },
  {
   "cell_type": "code",
   "execution_count": null,
   "metadata": {},
   "outputs": [],
   "source": [
    "\"Are there guidelines for writing the technical documentation within your organization?\"\n",
    "1 : 1\n",
    "2 : 0.5\n",
    "3 : 0"
   ]
  },
  {
   "cell_type": "code",
   "execution_count": null,
   "metadata": {},
   "outputs": [],
   "source": [
    "\"In my organization compliance requirements for technical documentation are communicated across the system development value chain.\"\n",
    "1 : 0\n",
    "2 : 0.25\n",
    "3 : 0.5\n",
    "4 : 0.75\n",
    "5 : 1"
   ]
  },
  {
   "cell_type": "code",
   "execution_count": null,
   "metadata": {},
   "outputs": [],
   "source": [
    "\"Is someone in your organization trained to determine the compliance requirements of the technical documentation?\"\n",
    "1 : 1\n",
    "2 : 0 "
   ]
  },
  {
   "cell_type": "code",
   "execution_count": null,
   "metadata": {},
   "outputs": [],
   "source": [
    "\"With which stakeholders are compliance requirements in relation to technical documentation communicated? - Other... - Text\"\n",
    "1 : 1\n",
    "2 : 1\n",
    "3 : 1\n",
    "4 : 1\n",
    "#Ask diptis"
   ]
  },
  {
   "cell_type": "code",
   "execution_count": null,
   "metadata": {},
   "outputs": [],
   "source": [
    "\"How often are compliance requirements in relation to technical documentation communicated with the development chain?\"\n",
    "1 : 1\n",
    "2 : 0.66\n",
    "3 : 0.33\n",
    "4 : 0"
   ]
  },
  {
   "cell_type": "code",
   "execution_count": null,
   "metadata": {},
   "outputs": [],
   "source": [
    "\"At which stage in the development process is technical documentation written? - Other... - Text\"\n",
    "1 : 1\n",
    "2 : 1\n",
    "3 : 1\n",
    "4 : 1\n",
    "#Ask diptis"
   ]
  },
  {
   "cell_type": "code",
   "execution_count": null,
   "metadata": {},
   "outputs": [],
   "source": [
    "\"How often is technical documentation written?\"\n",
    "1 : 1\n",
    "2 : 0.8\n",
    "3 : 0.6\n",
    "4 : 0.4\n",
    "5 : 0.2\n",
    "6 : 0\n"
   ]
  },
  {
   "cell_type": "code",
   "execution_count": null,
   "metadata": {},
   "outputs": [],
   "source": [
    "\"There are guidelines within my organization to ensure completeness of technical documentation.\"\n",
    "1 : 0\n",
    "2 : 0.25\n",
    "3 : 0.5\n",
    "4 : 0.75\n",
    "5 : 1"
   ]
  },
  {
   "cell_type": "code",
   "execution_count": null,
   "metadata": {},
   "outputs": [],
   "source": [
    "\"In my organization multiple departments understand the technical documentation.\"\n",
    "1 : 0\n",
    "2 : 0.25\n",
    "3 : 0.5\n",
    "4 : 0.75\n",
    "5 : 1"
   ]
  },
  {
   "cell_type": "code",
   "execution_count": null,
   "metadata": {},
   "outputs": [],
   "source": [
    "\"Technical documentation of my organization is written for technical people only.\"\n",
    "1 : 1\n",
    "2 : 0"
   ]
  },
  {
   "cell_type": "code",
   "execution_count": null,
   "metadata": {},
   "outputs": [],
   "source": [
    "\"Technical documentation is shared with the management of my organization.\"\n",
    "1 : 1\n",
    "2 : 0\n",
    "3 : 0.5"
   ]
  },
  {
   "cell_type": "code",
   "execution_count": null,
   "metadata": {},
   "outputs": [],
   "source": [
    "\"With which stakeholders is technical documentation shared? - Other... - Text\"\n",
    "1 : 1\n",
    "2 : 1\n",
    "3 : 1\n",
    "4 : 1\n",
    "#Ask diptis"
   ]
  },
  {
   "cell_type": "code",
   "execution_count": null,
   "metadata": {},
   "outputs": [],
   "source": [
    "\"The entire system development value chain is responsible for making technical documentation of the system.\"\n",
    "1 : 0\n",
    "2 : 0.25\n",
    "3 : 0.5\n",
    "4 : 0.75\n",
    "5 : 1"
   ]
  },
  {
   "cell_type": "code",
   "execution_count": null,
   "metadata": {},
   "outputs": [],
   "source": [
    "\"Technical documentation is very detailed within my organization.\"\n",
    "1 : 0\n",
    "2 : 0.25\n",
    "3 : 0.5\n",
    "4 : 0.75\n",
    "5 : 1\n"
   ]
  },
  {
   "cell_type": "code",
   "execution_count": null,
   "metadata": {},
   "outputs": [],
   "source": [
    "\"Are there dedicated professional(s) for writing technical documentation in your organization?\"\n",
    "1 : 1\n",
    "2 : 0.66\n",
    "3 : 0.33\n",
    "4 : 0"
   ]
  },
  {
   "cell_type": "markdown",
   "metadata": {},
   "source": [
    "Technical documention "
   ]
  }
 ],
 "metadata": {
  "kernelspec": {
   "display_name": "base",
   "language": "python",
   "name": "python3"
  },
  "language_info": {
   "name": "python",
   "version": "3.11.3"
  }
 },
 "nbformat": 4,
 "nbformat_minor": 2
}
